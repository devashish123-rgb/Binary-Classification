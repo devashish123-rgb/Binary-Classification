{
 "cells": [
  {
   "cell_type": "code",
   "execution_count": 1,
   "id": "28f18875",
   "metadata": {},
   "outputs": [],
   "source": [
    "#importing the libraries\n",
    "import keras\n",
    "from keras.models import Sequential\n",
    "from keras.layers import Convolution2D\n",
    "from keras.layers import MaxPooling2D\n",
    "from keras.layers import Flatten\n",
    "from keras.layers import Dense"
   ]
  },
  {
   "cell_type": "code",
   "execution_count": 2,
   "id": "03c8703e",
   "metadata": {},
   "outputs": [],
   "source": [
    "classifier= Sequential() # Initialise the CNN"
   ]
  },
  {
   "cell_type": "code",
   "execution_count": 3,
   "id": "32eb1e79",
   "metadata": {},
   "outputs": [],
   "source": [
    "# Ist step of Convoltional layer to get feature maps using feature detector\n",
    "classifier.add(Convolution2D(filters=32, # output feature maps\n",
    "                             kernel_size=(3,3), # matrix size for feature detector\n",
    "                             input_shape=(64, 64, 3), # input image shape, 3 is for rgb coloured image with 128*128 px\n",
    "                             kernel_initializer='he_uniform', # weights distriution\n",
    "                             activation='relu')) # activation function"
   ]
  },
  {
   "cell_type": "code",
   "execution_count": 4,
   "id": "960b279f",
   "metadata": {},
   "outputs": [],
   "source": [
    "# 2nd Pooling layer\n",
    "classifier.add(MaxPooling2D(pool_size=(2,2)))"
   ]
  },
  {
   "cell_type": "code",
   "execution_count": 5,
   "id": "c9d31153",
   "metadata": {},
   "outputs": [],
   "source": [
    "#2nd convolutional and pooling layer.\n",
    "classifier.add(Convolution2D(filters=32,\n",
    "                             kernel_size=(3,3), \n",
    "                             kernel_initializer='he_uniform', \n",
    "                             activation='relu'))\n",
    "classifier.add(MaxPooling2D(pool_size=(2,2)))"
   ]
  },
  {
   "cell_type": "code",
   "execution_count": 6,
   "id": "737f0623",
   "metadata": {},
   "outputs": [],
   "source": [
    "# Step 3 - Flattening\n",
    "classifier.add(Flatten())"
   ]
  },
  {
   "cell_type": "code",
   "execution_count": 7,
   "id": "2a43a147",
   "metadata": {},
   "outputs": [],
   "source": [
    "#Step 4 full connection in which input we have from flattening\n",
    "\n",
    "classifier.add(Dense(units=128,kernel_initializer='glorot_uniform', activation='relu')) \n",
    "#step 5 output layer\n",
    "classifier.add(Dense(units=1,kernel_initializer='glorot_uniform',activation='sigmoid'))\n",
    "# Compiling the CNN\n",
    "classifier.compile(optimizer = 'adam', loss = 'binary_crossentropy', metrics = ['accuracy'])"
   ]
  },
  {
   "cell_type": "code",
   "execution_count": 8,
   "id": "aa66b9d5",
   "metadata": {},
   "outputs": [],
   "source": [
    "from keras.preprocessing.image import ImageDataGenerator"
   ]
  },
  {
   "cell_type": "code",
   "execution_count": 9,
   "id": "5fd0c756",
   "metadata": {},
   "outputs": [],
   "source": [
    "#applying all the transformation we want to apply to training data set\n",
    "train_datagen = ImageDataGenerator(rescale = 1./255,\n",
    "                                   shear_range = 0.2,\n",
    "                                   zoom_range = 0.2,\n",
    "                                   horizontal_flip = True)"
   ]
  },
  {
   "cell_type": "code",
   "execution_count": 10,
   "id": "25bca722",
   "metadata": {},
   "outputs": [],
   "source": [
    "#Rescling the test data set images to use for validation.\n",
    "test_datagen= ImageDataGenerator(rescale=1./255)"
   ]
  },
  {
   "cell_type": "code",
   "execution_count": 11,
   "id": "e7d6846d",
   "metadata": {},
   "outputs": [
    {
     "name": "stdout",
     "output_type": "stream",
     "text": [
      "Found 275 images belonging to 2 classes.\n"
     ]
    }
   ],
   "source": [
    "#Getting My training data ready for validation, so it will read all the data with the px size we gave.\n",
    "\n",
    "training_set= train_datagen.flow_from_directory(directory= 'Dataset/training_set',\n",
    "                                               target_size=(64,64), # As we choose 64*64 for our convolution model\n",
    "                                               batch_size=50,\n",
    "                                               class_mode='binary' # for 2 class binary \n",
    "                                               )"
   ]
  },
  {
   "cell_type": "code",
   "execution_count": 12,
   "id": "46e66a25",
   "metadata": {},
   "outputs": [
    {
     "name": "stdout",
     "output_type": "stream",
     "text": [
      "Found 11769 images belonging to 2 classes.\n"
     ]
    }
   ],
   "source": [
    "#Getting My test data ready for validation, so it will read all the data with the px size we gave.\n",
    "\n",
    "test_set= test_datagen.flow_from_directory(directory= 'Dataset1/test_set',\n",
    "                                               target_size=(64,64), # As we choose 64*64 for our convolution model\n",
    "                                               batch_size=50,\n",
    "                                               class_mode='binary' # for 2 class binary\n",
    "                                          )"
   ]
  },
  {
   "cell_type": "code",
   "execution_count": 13,
   "id": "26493cfa",
   "metadata": {},
   "outputs": [
    {
     "name": "stdout",
     "output_type": "stream",
     "text": [
      "INFO:tensorflow:Assets written to: sus_nor_binary.hd5\\assets\n"
     ]
    }
   ],
   "source": [
    "classifier.save(\"sus_nor_binary.hd5\")"
   ]
  },
  {
   "cell_type": "code",
   "execution_count": 14,
   "id": "7e922bf3",
   "metadata": {},
   "outputs": [],
   "source": [
    "# Part 3 - Making new predictions\n",
    "\n",
    "import numpy as np\n",
    "from keras.preprocessing import image\n",
    "test_image = image.load_img('Dataset/single_prediction/sus2.jpg', target_size = (64, 64))\n",
    "# Loading the image and converting the pixels into array whcih will be used as input to predict.\n",
    "test_image = image.img_to_array(test_image)\n",
    "test_image = np.expand_dims(test_image, axis = 0)\n",
    "result = classifier.predict(test_image)\n",
    "training_set.class_indices\n",
    "if result[0][0] == 1:\n",
    "    prediction = 'sus'\n",
    "else:\n",
    "    prediction = 'normal'"
   ]
  },
  {
   "cell_type": "code",
   "execution_count": 15,
   "id": "17b2a11e",
   "metadata": {},
   "outputs": [
    {
     "name": "stdout",
     "output_type": "stream",
     "text": [
      "sus\n"
     ]
    }
   ],
   "source": [
    "print(prediction)"
   ]
  },
  {
   "cell_type": "code",
   "execution_count": null,
   "id": "ea3242d5",
   "metadata": {},
   "outputs": [],
   "source": []
  }
 ],
 "metadata": {
  "kernelspec": {
   "display_name": "Python 3 (ipykernel)",
   "language": "python",
   "name": "python3"
  },
  "language_info": {
   "codemirror_mode": {
    "name": "ipython",
    "version": 3
   },
   "file_extension": ".py",
   "mimetype": "text/x-python",
   "name": "python",
   "nbconvert_exporter": "python",
   "pygments_lexer": "ipython3",
   "version": "3.10.4"
  }
 },
 "nbformat": 4,
 "nbformat_minor": 5
}
